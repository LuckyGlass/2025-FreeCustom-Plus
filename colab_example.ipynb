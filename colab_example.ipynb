{
 "cells": [
  {
   "cell_type": "markdown",
   "metadata": {},
   "source": [
    "## 1. Prepare Environment"
   ]
  },
  {
   "cell_type": "code",
   "execution_count": null,
   "metadata": {},
   "outputs": [],
   "source": [
    "%pip install -r requirements.txt"
   ]
  },
  {
   "cell_type": "markdown",
   "metadata": {},
   "source": [
    "## 2. Examples"
   ]
  },
  {
   "cell_type": "code",
   "execution_count": null,
   "metadata": {},
   "outputs": [],
   "source": [
    "from freecustom_stable_diffusion import run\n",
    "import os\n",
    "\n",
    "folder_path = r'dataset/freecustom/multi_concept'\n",
    "for item in os.listdir(folder_path):\n",
    "    full_path = os.path.join(folder_path, item)\n",
    "    if os.path.isdir(full_path):\n",
    "        config_path = os.path.join(full_path, 'config_stable_diffusion.yaml')\n",
    "        run(config_path)"
   ]
  }
 ],
 "metadata": {
  "kernelspec": {
   "display_name": "freecustom",
   "language": "python",
   "name": "python3"
  },
  "language_info": {
   "name": "python",
   "version": "3.10.16"
  }
 },
 "nbformat": 4,
 "nbformat_minor": 2
}
