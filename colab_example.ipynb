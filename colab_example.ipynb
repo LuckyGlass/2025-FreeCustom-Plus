{
 "cells": [
  {
   "cell_type": "markdown",
   "metadata": {},
   "source": [
    "## 1. Prepare Environment"
   ]
  },
  {
   "cell_type": "markdown",
   "metadata": {},
   "source": [
    "Install the dependencies. (You may need to create a virtual enviroment first.)"
   ]
  },
  {
   "cell_type": "code",
   "execution_count": null,
   "metadata": {},
   "outputs": [],
   "source": [
    "%rm -r *\n",
    "!git clone https://github.com/LuckyGlass/2025-FreeCustom-Plus.git\n",
    "%mv 2025-FreeCustom-Plus/* .\n",
    "%rm -r 2025-FreeCustom-Plus\n",
    "%pip install -r requirements.txt\n",
    "%pip install GPUtil"
   ]
  },
  {
   "cell_type": "markdown",
   "metadata": {},
   "source": [
    "Download the model checkpoints for Grounded-SAM, following the instruction in https://github.com/IDEA-Research/Grounded-Segment-Anything?tab=readme-ov-file."
   ]
  },
  {
   "cell_type": "code",
   "execution_count": null,
   "metadata": {},
   "outputs": [],
   "source": [
    "%wget https://dl.fbaipublicfiles.com/segment_anything/sam_vit_h_4b8939.pth\n",
    "%wget https://github.com/IDEA-Research/GroundingDINO/releases/download/v0.1.0-alpha/groundingdino_swint_ogc.pth"
   ]
  },
  {
   "cell_type": "markdown",
   "metadata": {},
   "source": [
    "## 2. Examples"
   ]
  },
  {
   "cell_type": "markdown",
   "metadata": {},
   "source": [
    "Run some examples. You can change `config_path` to any path to the `config_stable_diffusion.yaml` in the `dataset` folder. You will need an A100 GPU to run this code."
   ]
  },
  {
   "cell_type": "code",
   "execution_count": null,
   "metadata": {},
   "outputs": [],
   "source": [
    "from fp_stable_diffusion import run\n",
    "\n",
    "config_path = r'dataset/freecustom/multi_concept/beard_flower_thanos/config_stable_diffusion.yaml'\n",
    "run(config_path)"
   ]
  }
 ],
 "metadata": {
  "kernelspec": {
   "display_name": "freecustom",
   "language": "python",
   "name": "python3"
  },
  "language_info": {
   "name": "python",
   "version": "3.10.16"
  }
 },
 "nbformat": 4,
 "nbformat_minor": 2
}
